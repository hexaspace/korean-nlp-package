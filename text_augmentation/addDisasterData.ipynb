{
 "cells": [
  {
   "cell_type": "code",
   "execution_count": 2,
   "id": "eb17807f",
   "metadata": {},
   "outputs": [],
   "source": [
    "import os\n",
    "os.environ['CUDA_VISIBLE_DEVICES'] = '2'\n",
    "\n",
    "\n",
    "# fwrite_loc = open(\"test_loc.tsv\", \"w\", encoding=\"utf-8\")\n",
    "fread_origin = open(\"train-Copy1.tsv\",\"a\")\n",
    "# fread_loc1= open(\"test_loc_data.tsv\", \"r\")\n",
    "fread_loc2= open(\"train_loc_data2.tsv\", \"r\")\n",
    "fread_loc3 = open(\"train_loc_data3.tsv\", \"r\")\n",
    "#, encoding=\"utf-8\" 'cp1252'\n",
    "# for line in fread_origin:\n",
    "#     fwrite_loc.write(line)\n",
    "for line in fread_loc2:\n",
    "    fread_origin.write(line)\n",
    "for line in fread_loc3:\n",
    "    fread_origin.write(line)"
   ]
  },
  {
   "cell_type": "code",
   "execution_count": null,
   "id": "097b88c6",
   "metadata": {},
   "outputs": [],
   "source": []
  }
 ],
 "metadata": {
  "kernelspec": {
   "display_name": "Python 3 (ipykernel)",
   "language": "python",
   "name": "python3"
  },
  "language_info": {
   "codemirror_mode": {
    "name": "ipython",
    "version": 3
   },
   "file_extension": ".py",
   "mimetype": "text/x-python",
   "name": "python",
   "nbconvert_exporter": "python",
   "pygments_lexer": "ipython3",
   "version": "3.8.8"
  }
 },
 "nbformat": 4,
 "nbformat_minor": 5
}
